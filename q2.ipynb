{
  "nbformat": 4,
  "nbformat_minor": 0,
  "metadata": {
    "colab": {
      "name": "q2.ipynb",
      "provenance": [],
      "authorship_tag": "ABX9TyMrLX+n2A2y3hCsKsm/uuOo",
      "include_colab_link": true
    },
    "kernelspec": {
      "name": "python3",
      "display_name": "Python 3"
    }
  },
  "cells": [
    {
      "cell_type": "markdown",
      "metadata": {
        "id": "view-in-github",
        "colab_type": "text"
      },
      "source": [
        "<a href=\"https://colab.research.google.com/github/IzzieZhang/Intro-to-Data-Analytics/blob/main/q2.ipynb\" target=\"_parent\"><img src=\"https://colab.research.google.com/assets/colab-badge.svg\" alt=\"Open In Colab\"/></a>"
      ]
    },
    {
      "cell_type": "code",
      "metadata": {
        "id": "gBmBKHOS5RnN"
      },
      "source": [
        "# q1\n",
        "import random\n",
        "def dealer(num_cards=2): \n",
        "  deck = []\n",
        "  hand = []\n",
        "  pile = []\n",
        "  d = {}\n",
        "  for a in [1,2,3,4,5,6,7,8,9,10,10,10,10]:\n",
        "    for b in ['Clubs', 'Diamonds', 'Hearts', 'Spades']:\n",
        "      deck.append((b,a))\n",
        "      for i in range(4):\n",
        "          deck.append((b,a))\n",
        "  random.shuffle(deck)\n",
        "  full_deck = deck\n",
        "  for c in range(num_cards):\n",
        "    hand.append(full_deck.pop(0))\n",
        "  pile = full_deck\n",
        "  d = {'full_deck':full_deck,'hand':hand,'pile':pile}\n",
        "  return(d)\n"
      ],
      "execution_count": null,
      "outputs": []
    },
    {
      "cell_type": "code",
      "metadata": {
        "id": "BDXaWjKkx467"
      },
      "source": [
        ""
      ],
      "execution_count": null,
      "outputs": []
    },
    {
      "cell_type": "code",
      "metadata": {
        "id": "CXRbR5-KSINZ"
      },
      "source": [
        "dealer(num_cards=4)"
      ],
      "execution_count": null,
      "outputs": []
    },
    {
      "cell_type": "code",
      "metadata": {
        "id": "GdXGpSDg5Rxq"
      },
      "source": [
        "def q2():\n",
        "\n",
        "  game_play = 0\n",
        "  hand_total = 0\n",
        "  wallet = 100\n",
        "\n",
        "  while game_play < 100 and wallet > 10:\n",
        "    wallet -= 10\n",
        "    game_play += 1\n",
        "    q1 = (dealer())\n",
        "    hand = q1['hand']\n",
        "    times = len(hand)\n",
        "    for x in range(times):\n",
        "      for y in range(2):\n",
        "        if isinstance(hand[x][y], str):\n",
        "          y += 1\n",
        "        else:\n",
        "          hand_total += hand[x][y]\n",
        "\n",
        "      if hand_total == 21:\n",
        "        wallet += 50\n",
        "      elif hand_total in [17,20]:\n",
        "        wallet += 10\n",
        "\n",
        "  d1 = {'hand':hand, 'hand_total':hand_total, 'wallet':wallet}\n",
        "\n",
        "  return d1\n",
        "\n"
      ],
      "execution_count": null,
      "outputs": []
    }
  ]
}